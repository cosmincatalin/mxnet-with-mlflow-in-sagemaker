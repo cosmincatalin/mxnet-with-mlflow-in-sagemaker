{
 "cells": [
  {
   "cell_type": "code",
   "execution_count": null,
   "metadata": {},
   "outputs": [],
   "source": [
    "import urllib.request\n",
    "\n",
    "src_url = \"https://archive.ics.uci.edu/ml/machine-learning-databases/00280/HIGGS.csv.gz\"\n",
    "dest_file = \"./data/higgs.csv.gz\"\n",
    "urllib.request.urlretrieve(src_url, dest_file)"
   ]
  },
  {
   "cell_type": "code",
   "execution_count": null,
   "metadata": {},
   "outputs": [],
   "source": [
    "import pandas as pd\n",
    "\n",
    "df = pd.read_csv(\n",
    "    dest_file,\n",
    "    header=None,\n",
    "    usecols=range(0, 22),\n",
    "    float_precision=\"round_trip\",\n",
    "    names=[\"target\"] + [f\"kinematic_{i}\" for i in range(1, 22)] + [f\"high_level_feature_{i}\" for i in range(1, 8)])"
   ]
  },
  {
   "cell_type": "code",
   "execution_count": null,
   "metadata": {
    "pycharm": {
     "name": "#%%\n"
    }
   },
   "outputs": [],
   "source": [
    "from sklearn.model_selection import train_test_split\n",
    "\n",
    "train_val_df, test_df = train_test_split(df, test_size=.1, stratify=df[\"target\"])"
   ]
  },
  {
   "cell_type": "code",
   "execution_count": null,
   "metadata": {
    "pycharm": {
     "name": "#%%\n"
    }
   },
   "outputs": [],
   "source": [
    "train_df, val_df = train_test_split(train_val_df, test_size=.15, stratify=train_val_df[\"target\"])"
   ]
  },
  {
   "cell_type": "code",
   "execution_count": null,
   "metadata": {},
   "outputs": [],
   "source": [
    "train_df.to_csv(\"./data/train.csv.gz\", header=False, compression=\"gzip\")\n",
    "val_df.to_csv(\"./data/val.csv.gz\", header=False, compression=\"gzip\")\n",
    "test_df.to_csv(\"./data/test.csv.gz\", header=False, compression=\"gzip\")"
   ]
  },
  {
   "cell_type": "code",
   "execution_count": null,
   "metadata": {},
   "outputs": [],
   "source": [
    "import boto3\n",
    "\n",
    "boto3_session = boto3.session.Session(region_name=\"us-east-1\")"
   ]
  },
  {
   "cell_type": "code",
   "execution_count": null,
   "metadata": {},
   "outputs": [],
   "source": [
    "import sagemaker\n",
    "\n",
    "sess = sagemaker.Session(boto3_session, default_bucket=\"sagemaker-acme\")"
   ]
  },
  {
   "cell_type": "code",
   "execution_count": null,
   "metadata": {},
   "outputs": [],
   "source": [
    "train_data_location = sess.upload_data(\"./data/train.csv.gz\")\n",
    "val_data_location  = sess.upload_data(\"./data/val.csv.gz\")\n",
    "test_data_location = sess.upload_data(\"./data/test.csv.gz\")"
   ]
  },
  {
   "cell_type": "code",
   "execution_count": null,
   "metadata": {},
   "outputs": [],
   "source": [
    "import tarfile\n",
    "\n",
    "with tarfile.open(\"model.tar.gz\", mode=\"w:gz\") as tar_gz:\n",
    "    tar_gz.add(\"train.py\")"
   ]
  },
  {
   "cell_type": "code",
   "execution_count": null,
   "metadata": {},
   "outputs": [],
   "source": [
    "model_location = sess.upload_data(\"model.tar.gz\")"
   ]
  },
  {
   "cell_type": "code",
   "execution_count": null,
   "metadata": {},
   "outputs": [],
   "source": [
    "from sagemaker.estimator import Estimator\n",
    "import os\n",
    "\n",
    "estimator = Estimator(\n",
    "    image_name=f\"{os.getenv('ACC_ID')}.dkr.ecr.us-east-1.amazonaws.com/mxnet-training:1.6.0-gpu\",\n",
    "    role=\"<redacted>\",\n",
    "    train_instance_count=1,\n",
    "    train_instance_type=\"ml.p3.8xlarge\",\n",
    "    sagemaker_session=sess,\n",
    "    subnets=[\"<redacted>\", \"<redacted>\"],\n",
    "    security_group_ids=[\"<redacted>\"],\n",
    "    train_use_spot_instances=True,\n",
    "    train_max_run=12*60*60,\n",
    "    train_max_wait=12*60*60,\n",
    "    hyperparameters={\n",
    "        \"sagemaker_submit_directory\": f'\"{model_location}\"',\n",
    "        \"sagemaker_program\": '\"train.py\"',\n",
    "        \"mlflow-secret\": '\"<redacted>\"',\n",
    "        \"mlflow-artifacts-location\": '\"s3://<redacted>/mlruns\"',\n",
    "        \"epochs\": \"8\",\n",
    "        \"learning-rate\": \"0.01\"\n",
    "    })"
   ]
  },
  {
   "cell_type": "code",
   "execution_count": null,
   "metadata": {
    "pycharm": {
     "is_executing": true
    },
    "scrolled": false
   },
   "outputs": [],
   "source": [
    "estimator.fit(inputs={\n",
    "    \"train\": train_data_location,\n",
    "    \"validation\": val_data_location\n",
    "})"
   ]
  }
 ],
 "metadata": {
  "kernelspec": {
   "display_name": "Python 3",
   "language": "python",
   "name": "python3"
  },
  "language_info": {
   "codemirror_mode": {
    "name": "ipython",
    "version": 3
   },
   "file_extension": ".py",
   "mimetype": "text/x-python",
   "name": "python",
   "nbconvert_exporter": "python",
   "pygments_lexer": "ipython3",
   "version": "3.6.9"
  }
 },
 "nbformat": 4,
 "nbformat_minor": 4
}
